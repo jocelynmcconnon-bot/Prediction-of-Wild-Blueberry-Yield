{
 "cells": [
  {
   "cell_type": "markdown",
   "id": "b1a9655b",
   "metadata": {},
   "source": [
    "# Imports"
   ]
  },
  {
   "cell_type": "code",
   "execution_count": 1,
   "id": "958d0f7b",
   "metadata": {},
   "outputs": [],
   "source": [
    "import pandas as pd\n",
    "import numpy as np\n",
    "from sklearn.model_selection import train_test_split, RepeatedKFold\n",
    "from sklearn.metrics import mean_absolute_error\n",
    "from sklearn.ensemble import RandomForestRegressor, GradientBoostingRegressor"
   ]
  },
  {
   "cell_type": "markdown",
   "id": "97a71dea",
   "metadata": {},
   "source": [
    "# Gather Data"
   ]
  },
  {
   "cell_type": "code",
   "execution_count": 2,
   "id": "2ec42bd4",
   "metadata": {},
   "outputs": [],
   "source": [
    "train = pd.read_csv(\"train.csv\")\n",
    "test = pd.read_csv(\"test.csv\")"
   ]
  },
  {
   "cell_type": "markdown",
   "id": "a470fd94",
   "metadata": {},
   "source": [
    "# Feature Engineering"
   ]
  },
  {
   "cell_type": "code",
   "execution_count": 3,
   "id": "181a589d",
   "metadata": {},
   "outputs": [],
   "source": [
    "train[\"fruit_seed\"] = train[\"fruitset\"] * train[\"seeds\"]\n",
    "test[\"fruit_seed\"] = test[\"fruitset\"] * test[\"seeds\"]"
   ]
  },
  {
   "cell_type": "markdown",
   "id": "c4f58d87",
   "metadata": {},
   "source": [
    "# Feature Selection"
   ]
  },
  {
   "cell_type": "code",
   "execution_count": 4,
   "id": "d4663ffb",
   "metadata": {},
   "outputs": [],
   "source": [
    "corr_matrix = train.corr().abs()\n",
    "upper = corr_matrix.where(np.triu(np.ones(corr_matrix.shape), k=1).astype(bool))\n",
    "threshold = 0.5\n",
    "high_corr_features = [column for column in upper.columns if any(upper[column] > threshold)]\n",
    "high_corr_features.remove('yield')"
   ]
  },
  {
   "cell_type": "code",
   "execution_count": 5,
   "id": "972037f9",
   "metadata": {},
   "outputs": [],
   "source": [
    "train = train[high_corr_features + ['yield']]\n",
    "test = test[high_corr_features + ['id']]"
   ]
  },
  {
   "cell_type": "markdown",
   "id": "dbf19110",
   "metadata": {},
   "source": [
    "# Performance-based Weights"
   ]
  },
  {
   "cell_type": "code",
   "execution_count": 6,
   "id": "899d5a29",
   "metadata": {},
   "outputs": [],
   "source": [
    "folds = 10\n",
    "\n",
    "gb_cv_scores, gb_preds = list(), list()\n",
    "rf_cv_scores, rf_preds = list(), list()\n",
    "ens_cv_scores, ens_preds = list(), list()\n",
    "\n",
    "kfold = RepeatedKFold(n_splits = folds, n_repeats = 1, random_state = 42)\n",
    "\n",
    "for i, (train_subset, test_subset) in enumerate(kfold.split(train.drop(columns=['yield']), train[['yield']])):\n",
    "    \n",
    "    X_train, X_test = train.drop(columns=['yield']).iloc[train_subset], train.drop(columns=['yield']).iloc[test_subset]\n",
    "    y_train, y_test = train[['yield']].iloc[train_subset], train[['yield']].iloc[test_subset]\n",
    "    \n",
    "    # fit gb model\n",
    "    gb_model = GradientBoostingRegressor(loss = 'absolute_error',\n",
    "        n_estimators = 200, \n",
    "        max_depth = 8, \n",
    "        learning_rate = 0.04,\n",
    "        min_samples_split = 10, \n",
    "        min_samples_leaf = 20).fit(X_train, y_train.values.ravel()) \n",
    "    \n",
    "    gb_test_pred = gb_model.predict(X_test)\n",
    "    gb_predictions = gb_model.predict(test.drop(columns = 'id'))\n",
    "    \n",
    "    gb_score = mean_absolute_error(y_test, gb_test_pred) \n",
    "    gb_cv_scores.append(gb_score)\n",
    "    gb_preds.append(gb_predictions)\n",
    "    \n",
    "\n",
    "    # fit rf model\n",
    "    rf_model = RandomForestRegressor(criterion = 'absolute_error',\n",
    "        n_estimators = 150, \n",
    "        max_depth = 10, \n",
    "        min_samples_split = 10, \n",
    "        min_samples_leaf = 20,\n",
    "        n_jobs = -1).fit(X_train,y_train.values.ravel()) \n",
    "\n",
    "    rf_test_pred = rf_model.predict(X_test)\n",
    "    rf_predictions = rf_model.predict(test.drop(columns = 'id'))\n",
    "    \n",
    "    rf_score = mean_absolute_error(y_test, rf_test_pred)\n",
    "    rf_cv_scores.append(rf_score)\n",
    "    rf_preds.append(rf_predictions)\n",
    "\n",
    "    # weights\n",
    "    weights = 1 / np.array([gb_score, rf_score])\n",
    "    total_weights = np.sum(weights)\n",
    "    weights = weights / total_weights\n",
    "    \n",
    "    # ensamble model\n",
    "    ens_test_pred = weights[0]*np.array(gb_test_pred) + weights[1]*np.array(rf_test_pred)\n",
    "    ens_predictions = weights[0]*np.array(gb_predictions) + weights[1]*np.array(rf_predictions)\n",
    "    \n",
    "    ens_score = mean_absolute_error(y_test, ens_test_pred)\n",
    "    ens_cv_scores.append(ens_score)\n",
    "    ens_preds.append(ens_predictions)\n"
   ]
  },
  {
   "cell_type": "code",
   "execution_count": 7,
   "id": "aa17c431",
   "metadata": {},
   "outputs": [],
   "source": [
    "weights_ens = 1 / np.array(ens_cv_scores)\n",
    "total_weights_ens = np.sum(weights_ens)\n",
    "weights_ens = weights_ens / total_weights_ens"
   ]
  },
  {
   "cell_type": "code",
   "execution_count": 8,
   "id": "27cd0c22",
   "metadata": {},
   "outputs": [
    {
     "data": {
      "text/plain": [
       "array([0.10214634, 0.09943672, 0.09422462, 0.0974444 , 0.10564696,\n",
       "       0.09936114, 0.09947442, 0.1033716 , 0.09801457, 0.10087923])"
      ]
     },
     "execution_count": 8,
     "metadata": {},
     "output_type": "execute_result"
    }
   ],
   "source": [
    "weights_ens"
   ]
  },
  {
   "cell_type": "markdown",
   "id": "effdf930",
   "metadata": {},
   "source": [
    "# Evaluate Model"
   ]
  },
  {
   "cell_type": "code",
   "execution_count": 9,
   "id": "0b18f1f7",
   "metadata": {},
   "outputs": [
    {
     "name": "stdout",
     "output_type": "stream",
     "text": [
      "MAE: 344.251\n"
     ]
    }
   ],
   "source": [
    "ens_cv_score = np.mean(ens_cv_scores)\n",
    "print('MAE: %.3f' % ens_cv_score)"
   ]
  },
  {
   "cell_type": "markdown",
   "id": "0f60ce39",
   "metadata": {},
   "source": [
    "# Create Submission"
   ]
  },
  {
   "cell_type": "code",
   "execution_count": 10,
   "id": "0dc03ace",
   "metadata": {},
   "outputs": [
    {
     "data": {
      "text/html": [
       "<div>\n",
       "<style scoped>\n",
       "    .dataframe tbody tr th:only-of-type {\n",
       "        vertical-align: middle;\n",
       "    }\n",
       "\n",
       "    .dataframe tbody tr th {\n",
       "        vertical-align: top;\n",
       "    }\n",
       "\n",
       "    .dataframe thead th {\n",
       "        text-align: right;\n",
       "    }\n",
       "</style>\n",
       "<table border=\"1\" class=\"dataframe\">\n",
       "  <thead>\n",
       "    <tr style=\"text-align: right;\">\n",
       "      <th></th>\n",
       "      <th>id</th>\n",
       "      <th>yield</th>\n",
       "    </tr>\n",
       "  </thead>\n",
       "  <tbody>\n",
       "    <tr>\n",
       "      <th>0</th>\n",
       "      <td>15289</td>\n",
       "      <td>4279.637471</td>\n",
       "    </tr>\n",
       "    <tr>\n",
       "      <th>1</th>\n",
       "      <td>15290</td>\n",
       "      <td>5876.072655</td>\n",
       "    </tr>\n",
       "    <tr>\n",
       "      <th>2</th>\n",
       "      <td>15291</td>\n",
       "      <td>7248.603191</td>\n",
       "    </tr>\n",
       "    <tr>\n",
       "      <th>3</th>\n",
       "      <td>15292</td>\n",
       "      <td>4745.923754</td>\n",
       "    </tr>\n",
       "    <tr>\n",
       "      <th>4</th>\n",
       "      <td>15293</td>\n",
       "      <td>3813.539108</td>\n",
       "    </tr>\n",
       "    <tr>\n",
       "      <th>...</th>\n",
       "      <td>...</td>\n",
       "      <td>...</td>\n",
       "    </tr>\n",
       "    <tr>\n",
       "      <th>10189</th>\n",
       "      <td>25478</td>\n",
       "      <td>5427.351321</td>\n",
       "    </tr>\n",
       "    <tr>\n",
       "      <th>10190</th>\n",
       "      <td>25479</td>\n",
       "      <td>5632.629527</td>\n",
       "    </tr>\n",
       "    <tr>\n",
       "      <th>10191</th>\n",
       "      <td>25480</td>\n",
       "      <td>6490.909502</td>\n",
       "    </tr>\n",
       "    <tr>\n",
       "      <th>10192</th>\n",
       "      <td>25481</td>\n",
       "      <td>4441.719074</td>\n",
       "    </tr>\n",
       "    <tr>\n",
       "      <th>10193</th>\n",
       "      <td>25482</td>\n",
       "      <td>7236.752801</td>\n",
       "    </tr>\n",
       "  </tbody>\n",
       "</table>\n",
       "<p>10194 rows × 2 columns</p>\n",
       "</div>"
      ],
      "text/plain": [
       "          id        yield\n",
       "0      15289  4279.637471\n",
       "1      15290  5876.072655\n",
       "2      15291  7248.603191\n",
       "3      15292  4745.923754\n",
       "4      15293  3813.539108\n",
       "...      ...          ...\n",
       "10189  25478  5427.351321\n",
       "10190  25479  5632.629527\n",
       "10191  25480  6490.909502\n",
       "10192  25481  4441.719074\n",
       "10193  25482  7236.752801\n",
       "\n",
       "[10194 rows x 2 columns]"
      ]
     },
     "execution_count": 10,
     "metadata": {},
     "output_type": "execute_result"
    }
   ],
   "source": [
    "predictions = 0\n",
    "for i in range(0, folds):\n",
    "    predictions += weights_ens[i] * np.array(ens_preds[i]) \n",
    "\n",
    "submission = pd.DataFrame({'id': test['id'], 'yield': predictions})\n",
    "submission"
   ]
  }
 ],
 "metadata": {
  "kernelspec": {
   "display_name": "Python 3 (ipykernel)",
   "language": "python",
   "name": "python3"
  },
  "language_info": {
   "codemirror_mode": {
    "name": "ipython",
    "version": 3
   },
   "file_extension": ".py",
   "mimetype": "text/x-python",
   "name": "python",
   "nbconvert_exporter": "python",
   "pygments_lexer": "ipython3",
   "version": "3.10.9"
  }
 },
 "nbformat": 4,
 "nbformat_minor": 5
}
